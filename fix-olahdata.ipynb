{
 "cells": [
  {
   "cell_type": "code",
   "execution_count": 82,
   "id": "81d9aefb",
   "metadata": {},
   "outputs": [],
   "source": [
    "import pandas as pd\n",
    "import re\n",
    "import random as r\n",
    "import numpy as np"
   ]
  },
  {
   "cell_type": "code",
   "execution_count": 109,
   "id": "0694910f",
   "metadata": {
    "scrolled": true
   },
   "outputs": [],
   "source": [
    "df = pd.read_csv('dataset.txt', sep=r'\\s+', skipinitialspace=True)"
   ]
  },
  {
   "cell_type": "code",
   "execution_count": 110,
   "id": "c83b0a45",
   "metadata": {},
   "outputs": [],
   "source": [
    "des = df.replace('---','0')"
   ]
  },
  {
   "cell_type": "code",
   "execution_count": 111,
   "id": "441a92ce",
   "metadata": {},
   "outputs": [],
   "source": [
    "des['sun'] = des['sun'].str.replace(r'#', '')"
   ]
  },
  {
   "cell_type": "code",
   "execution_count": 112,
   "id": "affce860",
   "metadata": {},
   "outputs": [],
   "source": [
    "# Drop first row\n",
    "des.drop(index=df.index[0], axis=0, inplace=True)"
   ]
  },
  {
   "cell_type": "code",
   "execution_count": 105,
   "id": "c80e010b",
   "metadata": {},
   "outputs": [],
   "source": [
    "des.to_csv('fix-dataset.csv',index=False)"
   ]
  },
  {
   "cell_type": "code",
   "execution_count": null,
   "id": "f81271b4",
   "metadata": {},
   "outputs": [],
   "source": []
  }
 ],
 "metadata": {
  "kernelspec": {
   "display_name": "Python 3 (ipykernel)",
   "language": "python",
   "name": "python3"
  },
  "language_info": {
   "codemirror_mode": {
    "name": "ipython",
    "version": 3
   },
   "file_extension": ".py",
   "mimetype": "text/x-python",
   "name": "python",
   "nbconvert_exporter": "python",
   "pygments_lexer": "ipython3",
   "version": "3.10.4"
  }
 },
 "nbformat": 4,
 "nbformat_minor": 5
}
